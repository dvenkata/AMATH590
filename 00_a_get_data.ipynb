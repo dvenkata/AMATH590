{
  "nbformat": 4,
  "nbformat_minor": 0,
  "metadata": {
    "colab": {
      "name": "00.a_get_data.ipynb",
      "provenance": [],
      "collapsed_sections": [],
      "authorship_tag": "ABX9TyPHezO4VgWaZRTCmLuFpaAe"
    },
    "kernelspec": {
      "name": "python3",
      "display_name": "Python 3"
    },
    "language_info": {
      "name": "python"
    }
  },
  "cells": [
    {
      "cell_type": "code",
      "metadata": {
        "id": "NHrsOHUQ0Ai9",
        "colab": {
          "base_uri": "https://localhost:8080/"
        },
        "outputId": "7abb33a5-a37b-446d-a368-a41a8354705b"
      },
      "source": [
        "!pip install pyJHTDB"
      ],
      "execution_count": 1,
      "outputs": [
        {
          "output_type": "stream",
          "text": [
            "Requirement already satisfied: pyJHTDB in /usr/local/lib/python3.7/dist-packages (20200909.0)\n",
            "Requirement already satisfied: sympy>=1.2 in /usr/local/lib/python3.7/dist-packages (from pyJHTDB) (1.7.1)\n",
            "Requirement already satisfied: h5py>=2.8.0 in /usr/local/lib/python3.7/dist-packages (from pyJHTDB) (2.10.0)\n",
            "Requirement already satisfied: matplotlib>=3.0.0 in /usr/local/lib/python3.7/dist-packages (from pyJHTDB) (3.2.2)\n",
            "Requirement already satisfied: scipy>=1.1.0 in /usr/local/lib/python3.7/dist-packages (from pyJHTDB) (1.4.1)\n",
            "Requirement already satisfied: numpy>=1.15.0 in /usr/local/lib/python3.7/dist-packages (from pyJHTDB) (1.19.5)\n",
            "Requirement already satisfied: mpmath>=0.19 in /usr/local/lib/python3.7/dist-packages (from sympy>=1.2->pyJHTDB) (1.2.1)\n",
            "Requirement already satisfied: six in /usr/local/lib/python3.7/dist-packages (from h5py>=2.8.0->pyJHTDB) (1.15.0)\n",
            "Requirement already satisfied: cycler>=0.10 in /usr/local/lib/python3.7/dist-packages (from matplotlib>=3.0.0->pyJHTDB) (0.10.0)\n",
            "Requirement already satisfied: kiwisolver>=1.0.1 in /usr/local/lib/python3.7/dist-packages (from matplotlib>=3.0.0->pyJHTDB) (1.3.1)\n",
            "Requirement already satisfied: pyparsing!=2.0.4,!=2.1.2,!=2.1.6,>=2.0.1 in /usr/local/lib/python3.7/dist-packages (from matplotlib>=3.0.0->pyJHTDB) (2.4.7)\n",
            "Requirement already satisfied: python-dateutil>=2.1 in /usr/local/lib/python3.7/dist-packages (from matplotlib>=3.0.0->pyJHTDB) (2.8.1)\n"
          ],
          "name": "stdout"
        }
      ]
    },
    {
      "cell_type": "code",
      "metadata": {
        "id": "5lcxMQgl1I7J"
      },
      "source": [
        "import pyJHTDB\n",
        "from pyJHTDB import libJHTDB\n",
        "import numpy as np\n",
        "import itertools"
      ],
      "execution_count": 2,
      "outputs": []
    },
    {
      "cell_type": "code",
      "metadata": {
        "id": "y9S_ixzJ1PDf"
      },
      "source": [
        "lJHTDB = libJHTDB()\n",
        "lJHTDB.initialize()\n",
        "\n",
        "#Add token\n",
        "auth_token  = \"edu.uw.dvenkata-4de4bb73\" #Replace with your own token here\n",
        "lJHTDB.add_token(auth_token)"
      ],
      "execution_count": 3,
      "outputs": []
    },
    {
      "cell_type": "code",
      "metadata": {
        "id": "H-BHJ0_v2Kj-"
      },
      "source": [
        "#Set domain to be queried\n",
        "#Generates a 3D plot of Q iso-surface with overlayed kinetic energy volume \n",
        "#rendering in a [0,1]^3 subcube in isotropic turbulence\n",
        "\n",
        "nx1=11\n",
        "ny1=11\n",
        "nz1=11\n",
        "\n",
        "xmin1, xmax1 = 0, 2*np.pi\n",
        "ymin1, ymax1 = 0, 2*np.pi\n",
        "zmin1, zmax1 = 0, 2*np.pi\n",
        "\n",
        "#Creates query points and arranges their coordinates into the required (n,3)-type array\n",
        "x1=np.linspace(xmin1,xmax1,nx1,dtype='float32')\n",
        "y1=np.linspace(ymin1,ymax1,ny1,dtype='float32')\n",
        "z1=np.linspace(zmin1,zmax1,nz1,dtype='float32')\n",
        "\n",
        "points1 = np.array([])\n",
        "iterables = [x1,y1,z1]\n",
        "\n",
        "points1 = np.array(list(itertools.product(*iterables)))"
      ],
      "execution_count": 4,
      "outputs": []
    },
    {
      "cell_type": "code",
      "metadata": {
        "id": "T7yOaX5zW1fs"
      },
      "source": [
        "t = np.linspace(3,4,5)\n",
        "vel_time = np.zeros((nx1*ny1*nz1,3,t.size),dtype='float32')\n",
        "count = 0"
      ],
      "execution_count": 5,
      "outputs": []
    },
    {
      "cell_type": "code",
      "metadata": {
        "id": "rtDEsSHe35kS"
      },
      "source": [
        "#Queries the velocity from JHTDB\n",
        "for t1 in t:\n",
        "  lJHTDB.initialize()\n",
        "\n",
        "  Lag4 = 4\n",
        "  vel = lJHTDB.getData(\n",
        "      t1, point_coords=points1,sinterp = Lag4,\n",
        "      data_set = 'isotropic1024coarse',\n",
        "      getFunction = 'getVelocity')\n",
        "      \n",
        "  lJHTDB.finalize()\n",
        "  vel_time[:,:,count] = vel\n",
        "  count = count + 1"
      ],
      "execution_count": 6,
      "outputs": []
    },
    {
      "cell_type": "code",
      "metadata": {
        "colab": {
          "base_uri": "https://localhost:8080/"
        },
        "id": "ME6WZbJ1cGoe",
        "outputId": "52d62425-7111-45eb-881e-671380fef266"
      },
      "source": [
        "from google.colab import drive\n",
        "drive.mount('/content/drive')\n",
        "np.save('/content/drive/MyDrive/Colab Notebooks/vel3.npy', vel_time)"
      ],
      "execution_count": 7,
      "outputs": [
        {
          "output_type": "stream",
          "text": [
            "Mounted at /content/drive\n"
          ],
          "name": "stdout"
        }
      ]
    },
    {
      "cell_type": "code",
      "metadata": {
        "id": "KKZaWFjTaFyH"
      },
      "source": [
        ""
      ],
      "execution_count": 7,
      "outputs": []
    }
  ]
}