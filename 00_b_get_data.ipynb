{
  "nbformat": 4,
  "nbformat_minor": 0,
  "metadata": {
    "colab": {
      "name": "00.b_get_data.ipynb",
      "provenance": [],
      "collapsed_sections": [],
      "authorship_tag": "ABX9TyNKPX1KP2yzU9F9Kj9MoCRK"
    },
    "kernelspec": {
      "name": "python3",
      "display_name": "Python 3"
    },
    "language_info": {
      "name": "python"
    }
  },
  "cells": [
    {
      "cell_type": "code",
      "metadata": {
        "id": "zniCKjJF30cp"
      },
      "source": [
        "import numpy as np\n",
        "import pyJHTDB\n",
        "from pyJHTDB import libJHTDB"
      ],
      "execution_count": null,
      "outputs": []
    },
    {
      "cell_type": "code",
      "metadata": {
        "id": "Gy0PigBN36jH"
      },
      "source": [
        "# #space pull\n",
        "# start = 1\n",
        "# end = 512\n",
        "# step = 1\n",
        "# step_xy = 32\n",
        "# step_t = 256"
      ],
      "execution_count": null,
      "outputs": []
    },
    {
      "cell_type": "code",
      "metadata": {
        "id": "y9L9CMwy38xn"
      },
      "source": [
        "# #fine grid pull\n",
        "# start = 1\n",
        "# end = 1024\n",
        "# end_t = 64\n",
        "# step = 4\n",
        "# step_t = 1"
      ],
      "execution_count": null,
      "outputs": []
    },
    {
      "cell_type": "code",
      "metadata": {
        "id": "LQDUL1B-3-ul"
      },
      "source": [
        "#LES coarse grid pull\n",
        "start = 1\n",
        "end = 1024\n",
        "end_t = 64\n",
        "step = 32\n",
        "step_t = 1"
      ],
      "execution_count": null,
      "outputs": []
    },
    {
      "cell_type": "code",
      "metadata": {
        "id": "6GWmlJy24Acb"
      },
      "source": [
        "#Add token\n",
        "auth_token  = \"edu.jhu.pha.turbulence.testing-201311\" #Replace with your own token here"
      ],
      "execution_count": null,
      "outputs": []
    },
    {
      "cell_type": "code",
      "metadata": {
        "id": "x0TN-4SX4D3s"
      },
      "source": [
        "lJHTDB = libJHTDB()\n",
        "lJHTDB.initialize()\n",
        "lJHTDB.add_token(auth_token)\n",
        "\n",
        "result = lJHTDB.getbigCutout(\n",
        "        data_set='isotropic1024coarse', fields='u', t_start=start, t_end=end_t, t_step=step_t,\n",
        "        start=np.array([start, start, start], dtype = np.int),\n",
        "        end=np.array([end, end, start], dtype = np.int),\n",
        "        step=np.array([step, step, step], dtype = np.int),\n",
        "        filter_width=1,\n",
        "        filename='vel3_cutout_les_coarse')\n",
        "\n",
        "lJHTDB.finalize()\n",
        "print(result.shape)"
      ],
      "execution_count": null,
      "outputs": []
    }
  ]
}