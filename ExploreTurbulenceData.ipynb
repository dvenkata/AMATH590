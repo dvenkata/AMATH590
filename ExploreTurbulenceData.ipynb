{
  "nbformat": 4,
  "nbformat_minor": 0,
  "metadata": {
    "colab": {
      "name": "ExploreTurbulenceData.ipynb",
      "provenance": [],
      "collapsed_sections": [],
      "authorship_tag": "ABX9TyNnTxdXPeE8MfRFnHJQesXa",
      "include_colab_link": true
    },
    "kernelspec": {
      "name": "python3",
      "display_name": "Python 3"
    },
    "language_info": {
      "name": "python"
    }
  },
  "cells": [
    {
      "cell_type": "markdown",
      "metadata": {
        "id": "view-in-github",
        "colab_type": "text"
      },
      "source": [
        "<a href=\"https://colab.research.google.com/github/dvenkata/AMATH590/blob/main/ExploreTurbulenceData.ipynb\" target=\"_parent\"><img src=\"https://colab.research.google.com/assets/colab-badge.svg\" alt=\"Open In Colab\"/></a>"
      ]
    },
    {
      "cell_type": "code",
      "metadata": {
        "id": "FWz372FYiK52",
        "colab": {
          "base_uri": "https://localhost:8080/"
        },
        "outputId": "d3ed5756-2657-4f5b-ed98-360290887323"
      },
      "source": [
        "import numpy as np\n",
        "from google.colab import drive\n",
        "drive.mount('/content/drive')"
      ],
      "execution_count": 51,
      "outputs": [
        {
          "output_type": "stream",
          "text": [
            "Drive already mounted at /content/drive; to attempt to forcibly remount, call drive.mount(\"/content/drive\", force_remount=True).\n"
          ],
          "name": "stdout"
        }
      ]
    },
    {
      "cell_type": "code",
      "metadata": {
        "colab": {
          "base_uri": "https://localhost:8080/"
        },
        "id": "I4RBYuEzBDDI",
        "outputId": "43417877-f51a-4ef2-8e8a-34885e7f9a13"
      },
      "source": [
        "X = np.load('/content/drive/MyDrive/Colab Notebooks/vel3.npy')\n",
        "print(X.shape)"
      ],
      "execution_count": 52,
      "outputs": [
        {
          "output_type": "stream",
          "text": [
            "(32768, 3, 5)\n"
          ],
          "name": "stdout"
        }
      ]
    },
    {
      "cell_type": "code",
      "metadata": {
        "id": "sSZtlVsVFXEs"
      },
      "source": [
        "nx1 = round(X.shape[0]**(1/3))\n",
        "ny1 = round(X.shape[0]**(1/3))\n",
        "nz1 = round(X.shape[0]**(1/3))\n",
        "tt1 = X.shape[2]\n",
        "Y = np.zeros((nx1,ny1,nz1,tt1))"
      ],
      "execution_count": 61,
      "outputs": []
    },
    {
      "cell_type": "code",
      "metadata": {
        "id": "y0x_tW0_sN-A"
      },
      "source": [
        "#Compute Energy\n",
        "u = np.zeros((X.shape[0],1,X.shape[2]))\n",
        "u[:,0,:] = X[:,0,:]**2 + X[:,1,:]**2 + X[:,2,:]**2"
      ],
      "execution_count": 62,
      "outputs": []
    },
    {
      "cell_type": "code",
      "metadata": {
        "id": "bh45EHbluS-K"
      },
      "source": [
        "u = u.reshape((X.shape[0]*X.shape[2],1),order='F')"
      ],
      "execution_count": 65,
      "outputs": []
    },
    {
      "cell_type": "code",
      "metadata": {
        "id": "NQna5lJ9qRyP"
      },
      "source": [
        "#Get a 3D cube of kinetic energy\n",
        "count = 0\n",
        "for tt in range(tt1):\n",
        "  for ii in range(nx1):\n",
        "    for jj in range(ny1):\n",
        "      for kk in range(nz1):\n",
        "        Y[ii,jj,kk,tt] = u[count,0]\n",
        "        count += 1"
      ],
      "execution_count": 66,
      "outputs": []
    },
    {
      "cell_type": "code",
      "metadata": {
        "colab": {
          "base_uri": "https://localhost:8080/",
          "height": 230
        },
        "id": "G9UOubC9ug_w",
        "outputId": "d3cacf3e-8676-4d38-aa66-7c978fa92f9e"
      },
      "source": [
        "#Plot a surface at a given z, over time\n",
        "import matplotlib.pyplot as plt\n",
        "\n",
        "fig = plt.figure(figsize = (10,10))\n",
        "a = fig.add_subplot(131)\n",
        "a.imshow(Y[:,:,0,0])\n",
        "\n",
        "a = fig.add_subplot(132)\n",
        "a.imshow(Y[:,:,0,1])\n",
        "\n",
        "a = fig.add_subplot(133)\n",
        "a.imshow(Y[:,:,0,2])"
      ],
      "execution_count": 70,
      "outputs": [
        {
          "output_type": "execute_result",
          "data": {
            "text/plain": [
              "<matplotlib.image.AxesImage at 0x7f6203803710>"
            ]
          },
          "metadata": {
            "tags": []
          },
          "execution_count": 70
        },
        {
          "output_type": "display_data",
          "data": {
            "image/png": "[encoded data removed]",
            "text/plain": [
              "<Figure size 720x720 with 3 Axes>"
            ]
          },
          "metadata": {
            "tags": [],
            "needs_background": "light"
          }
        }
      ]
    }
  ]
}