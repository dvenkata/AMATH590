{
  "nbformat": 4,
  "nbformat_minor": 0,
  "metadata": {
    "colab": {
      "name": "ExploreTurbulenceData.ipynb",
      "provenance": [],
      "collapsed_sections": [],
      "authorship_tag": "ABX9TyOmEnVxvoS/kNzixYR1Gxjb",
      "include_colab_link": true
    },
    "kernelspec": {
      "name": "python3",
      "display_name": "Python 3"
    },
    "language_info": {
      "name": "python"
    }
  },
  "cells": [
    {
      "cell_type": "markdown",
      "metadata": {
        "id": "view-in-github",
        "colab_type": "text"
      },
      "source": [
        "<a href=\"https://colab.research.google.com/github/dvenkata/AMATH590/blob/main/ExploreTurbulenceData.ipynb\" target=\"_parent\"><img src=\"https://colab.research.google.com/assets/colab-badge.svg\" alt=\"Open In Colab\"/></a>"
      ]
    },
    {
      "cell_type": "code",
      "metadata": {
        "id": "FWz372FYiK52",
        "colab": {
          "base_uri": "https://localhost:8080/"
        },
        "outputId": "3447e005-5458-434b-c888-2d937081873d"
      },
      "source": [
        "import numpy as np\n",
        "from google.colab import drive\n",
        "drive.mount('/content/drive')"
      ],
      "execution_count": 40,
      "outputs": [
        {
          "output_type": "stream",
          "text": [
            "Drive already mounted at /content/drive; to attempt to forcibly remount, call drive.mount(\"/content/drive\", force_remount=True).\n"
          ],
          "name": "stdout"
        }
      ]
    },
    {
      "cell_type": "code",
      "metadata": {
        "colab": {
          "base_uri": "https://localhost:8080/"
        },
        "id": "I4RBYuEzBDDI",
        "outputId": "52c22b82-823e-456e-8118-3e8a2bcdb7b0"
      },
      "source": [
        "X = np.load('/content/drive/MyDrive/Colab Notebooks/vel3.npy')\n",
        "print(X.shape)"
      ],
      "execution_count": 41,
      "outputs": [
        {
          "output_type": "stream",
          "text": [
            "(4096, 3, 3)\n"
          ],
          "name": "stdout"
        }
      ]
    },
    {
      "cell_type": "code",
      "metadata": {
        "id": "sSZtlVsVFXEs"
      },
      "source": [
        "nx1 = 16\n",
        "ny1 = 16\n",
        "nz1 = 16\n",
        "tt1 = X.shape[2]\n",
        "Y = np.zeros((nx1,ny1,nz1,tt1))"
      ],
      "execution_count": 42,
      "outputs": []
    },
    {
      "cell_type": "code",
      "metadata": {
        "id": "y0x_tW0_sN-A"
      },
      "source": [
        "#Compute Energy\n",
        "u = np.zeros((4096,1,3))\n",
        "u[:,0,:] = X[:,0,:]**2 + X[:,1,:]**2 + X[:,2,:]**2"
      ],
      "execution_count": 43,
      "outputs": []
    },
    {
      "cell_type": "code",
      "metadata": {
        "id": "bh45EHbluS-K"
      },
      "source": [
        "u = u.reshape((4096*3,1),order='F')"
      ],
      "execution_count": 47,
      "outputs": []
    },
    {
      "cell_type": "code",
      "metadata": {
        "id": "NQna5lJ9qRyP"
      },
      "source": [
        "#Get a 3D cube of kinetic energy\n",
        "count = 0\n",
        "for tt in range(tt1):\n",
        "  for ii in range(nx1):\n",
        "    for jj in range(ny1):\n",
        "      for kk in range(nz1):\n",
        "        Y[ii,jj,kk,tt] = u[count,0]\n",
        "        count += 1"
      ],
      "execution_count": 49,
      "outputs": []
    },
    {
      "cell_type": "code",
      "metadata": {
        "colab": {
          "base_uri": "https://localhost:8080/",
          "height": 471
        },
        "id": "G9UOubC9ug_w",
        "outputId": "ec7a97c5-d8ec-4e2a-82a4-fd69d7093f52"
      },
      "source": [
        "#Plot a surface at a given z\n",
        "import matplotlib.pyplot as plt\n",
        "\n",
        "fig = plt.figure(figsize = (16,16))\n",
        "a = fig.add_subplot(121)\n",
        "a.imshow(Y[:,:,0,0])\n",
        "\n",
        "a = fig.add_subplot(122)\n",
        "a.imshow(Y[:,:,0,1])\n"
      ],
      "execution_count": 50,
      "outputs": [
        {
          "output_type": "execute_result",
          "data": {
            "text/plain": [
              "<matplotlib.image.AxesImage at 0x7f6203c11e90>"
            ]
          },
          "metadata": {
            "tags": []
          },
          "execution_count": 50
        },
        {
          "output_type": "display_data",
          "data": {
            "image/png": "[encoded data removed]",
            "text/plain": [
              "<Figure size 1152x1152 with 2 Axes>"
            ]
          },
          "metadata": {
            "tags": [],
            "needs_background": "light"
          }
        }
      ]
    }
  ]
}