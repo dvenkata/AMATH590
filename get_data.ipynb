{
  "nbformat": 4,
  "nbformat_minor": 0,
  "metadata": {
    "colab": {
      "name": "get_data.ipynb",
      "provenance": [],
      "collapsed_sections": [],
      "authorship_tag": "ABX9TyPCE8D2PXUqFDW8t47ZY760",
      "include_colab_link": true
    },
    "kernelspec": {
      "name": "python3",
      "display_name": "Python 3"
    },
    "language_info": {
      "name": "python"
    }
  },
  "cells": [
    {
      "cell_type": "markdown",
      "metadata": {
        "id": "view-in-github",
        "colab_type": "text"
      },
      "source": [
        "<a href=\"https://colab.research.google.com/github/dvenkata/AMATH590/blob/main/get_data.ipynb\" target=\"_parent\"><img src=\"https://colab.research.google.com/assets/colab-badge.svg\" alt=\"Open In Colab\"/></a>"
      ]
    },
    {
      "cell_type": "code",
      "metadata": {
        "id": "NHrsOHUQ0Ai9"
      },
      "source": [
        "#!pip install pyJHTDB"
      ],
      "execution_count": null,
      "outputs": []
    },
    {
      "cell_type": "code",
      "metadata": {
        "id": "5lcxMQgl1I7J"
      },
      "source": [
        "import pyJHTDB\n",
        "from pyJHTDB import libJHTDB\n",
        "import time as tt\n",
        "import numpy as np\n",
        "import ipywidgets as widgets\n",
        "from ipywidgets import interact, interactive, fixed\n",
        "import math\n",
        "from numpy import sin,cos,pi"
      ],
      "execution_count": null,
      "outputs": []
    },
    {
      "cell_type": "code",
      "metadata": {
        "id": "y9S_ixzJ1PDf"
      },
      "source": [
        "lJHTDB = libJHTDB()\n",
        "lJHTDB.initialize()\n",
        "\n",
        "#Add token\n",
        "auth_token  = \"edu.jhu.pha.turbulence.testing-201311\" #Replace with your own token here\n",
        "lJHTDB.add_token(auth_token)"
      ],
      "execution_count": null,
      "outputs": []
    },
    {
      "cell_type": "code",
      "metadata": {
        "id": "H-BHJ0_v2Kj-"
      },
      "source": [
        "#Set domain to be queried\n",
        "#Generates a 3D plot of Q iso-surface with overlayed kinetic energy volume \n",
        "#rendering in a [0,0.5]^3 subcube in isotropic turbulence\n",
        "\n",
        "nx1=16\n",
        "ny1=16\n",
        "nz1=16\n",
        "\n",
        "xmin1, xmax1 = 0, 0.5\n",
        "ymin1, ymax1 = 0, 0.5\n",
        "zmin1, zmax1 = 0, 0.5\n",
        "\n",
        "#Creates query points and arranges their coordinates into the required (n,3)-type array\n",
        "points1 = np.zeros((nx1*ny1*nz1,3),dtype='float32')\n",
        "\n",
        "x1=np.linspace(xmin1,xmax1,nx1,dtype='float32')\n",
        "y1=np.linspace(ymin1,ymax1,ny1,dtype='float32')\n",
        "z1=np.linspace(zmin1,zmax1,nz1,dtype='float32')\n",
        "count = 0\n",
        "\n",
        "for ii in range(np.size(x1)):  \n",
        "    for jj in range(np.size(y1)):    \n",
        "        for kk in range(np.size(z1)):   \n",
        "            points1[count,0] = x1[ii]\n",
        "            points1[count,1] = y1[jj]\n",
        "            points1[count,2] = z1[kk]\n",
        "            count = count + 1"
      ],
      "execution_count": null,
      "outputs": []
    },
    {
      "cell_type": "code",
      "metadata": {
        "id": "T7yOaX5zW1fs"
      },
      "source": [
        "t = np.linspace(3,4,3)\n",
        "vel_time = np.zeros((nx1*ny1*nz1,3,t.size),dtype='float32')\n",
        "count = 0"
      ],
      "execution_count": null,
      "outputs": []
    },
    {
      "cell_type": "code",
      "metadata": {
        "id": "rtDEsSHe35kS"
      },
      "source": [
        "#Queries the velocity from JHTDB\n",
        "for t1 in t:\n",
        "  lJHTDB.initialize()\n",
        "\n",
        "  Lag4 = 4\n",
        "  vel = lJHTDB.getData(\n",
        "      t1, point_coords=points1,sinterp = Lag4,\n",
        "      data_set = 'isotropic1024coarse',\n",
        "      getFunction = 'getVelocity')\n",
        "      \n",
        "  lJHTDB.finalize()\n",
        "  vel_time[:,:,count] = vel\n",
        "  count = count + 1"
      ],
      "execution_count": null,
      "outputs": []
    },
    {
      "cell_type": "code",
      "metadata": {
        "colab": {
          "base_uri": "https://localhost:8080/"
        },
        "id": "tOQln4xtRMoo",
        "outputId": "c078f81f-ec1c-42a6-9efe-83117bb638ef"
      },
      "source": [
        "vel_time"
      ],
      "execution_count": null,
      "outputs": [
        {
          "output_type": "execute_result",
          "data": {
            "text/plain": [
              "array([[[ 0.77045923,  0.09361473,  0.26714146],\n",
              "        [-0.17957145, -0.56206995, -1.0377213 ],\n",
              "        [ 0.20436388,  0.31957975,  0.5908221 ]],\n",
              "\n",
              "       [[ 0.6970722 ,  0.10774541, -0.13966577],\n",
              "        [-0.3093551 , -0.6150561 , -0.8265755 ],\n",
              "        [ 0.0967439 ,  0.35725826,  0.30734825]],\n",
              "\n",
              "       [[ 0.68811274,  0.07084366,  0.33443615],\n",
              "        [-0.47641817, -0.45166278, -0.8340085 ],\n",
              "        [ 0.0388321 ,  0.3492508 ,  0.1865217 ]],\n",
              "\n",
              "       ...,\n",
              "\n",
              "       [[-0.7034385 ,  0.03418985, -0.79711866],\n",
              "        [-0.47336495,  0.18266886, -0.17796212],\n",
              "        [-0.3613357 , -0.53609645, -0.6466188 ]],\n",
              "\n",
              "       [[-1.1218424 , -0.13439545, -0.5558554 ],\n",
              "        [ 0.11995666,  0.2389164 , -0.08153977],\n",
              "        [-0.08134978, -0.5310281 , -0.45661712]],\n",
              "\n",
              "       [[-0.5125015 , -0.37216994, -0.39795774],\n",
              "        [-0.19774327, -0.22947921, -0.37402508],\n",
              "        [ 0.17156082, -0.40711337, -0.7801417 ]]], dtype=float32)"
            ]
          },
          "metadata": {
            "tags": []
          },
          "execution_count": 7
        }
      ]
    },
    {
      "cell_type": "code",
      "metadata": {
        "colab": {
          "base_uri": "https://localhost:8080/"
        },
        "id": "ME6WZbJ1cGoe",
        "outputId": "22e26a0e-056c-416b-cc0c-b41fb33b3ac1"
      },
      "source": [
        "from google.colab import drive\n",
        "drive.mount('/content/drive')\n",
        "np.save('/content/drive/MyDrive/Colab Notebooks/vel3.npy', vel_time)"
      ],
      "execution_count": null,
      "outputs": [
        {
          "output_type": "stream",
          "text": [
            "Mounted at /content/drive\n"
          ],
          "name": "stdout"
        }
      ]
    },
    {
      "cell_type": "code",
      "metadata": {
        "id": "KKZaWFjTaFyH"
      },
      "source": [
        ""
      ],
      "execution_count": null,
      "outputs": []
    }
  ]
}