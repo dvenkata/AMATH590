{
  "nbformat": 4,
  "nbformat_minor": 0,
  "metadata": {
    "colab": {
      "name": "03.Sub-grid Scale Analysis.ipynb",
      "provenance": [],
      "collapsed_sections": [],
      "mount_file_id": "1M_lSXwY-qeJ27Zw2wCXOtXq5qGxyrmwt",
      "authorship_tag": "ABX9TyNXMhbNxG0NPz54YPlde8XX"
    },
    "kernelspec": {
      "name": "python3",
      "display_name": "Python 3"
    },
    "language_info": {
      "name": "python"
    }
  },
  "cells": [
    {
      "cell_type": "code",
      "metadata": {
        "colab": {
          "base_uri": "https://localhost:8080/"
        },
        "id": "-cIAj3Lir1Oa",
        "outputId": "51c26a24-a71b-448a-b856-cdaf15de1195"
      },
      "source": [
        "import numpy as np\n",
        "import h5py\n",
        "from google.colab import drive\n",
        "drive.mount('/content/drive')"
      ],
      "execution_count": 1,
      "outputs": [
        {
          "output_type": "stream",
          "text": [
            "Drive already mounted at /content/drive; to attempt to forcibly remount, call drive.mount(\"/content/drive\", force_remount=True).\n"
          ],
          "name": "stdout"
        }
      ]
    },
    {
      "cell_type": "code",
      "metadata": {
        "id": "Q3gLeUwZ8-GZ"
      },
      "source": [
        "#Read the HP5 file\n",
        "hfine = h5py.File('/content/drive/MyDrive/Colab Notebooks/vel3_cutout_les_fine.h5', 'r')\n",
        "hcoarse = h5py.File('/content/drive/MyDrive/Colab Notebooks/vel3_cutout_les_coarse.h5', 'r')"
      ],
      "execution_count": 2,
      "outputs": []
    },
    {
      "cell_type": "code",
      "metadata": {
        "id": "yIWFyCiER6Qg"
      },
      "source": [
        "a = len(list(hfine.keys())) - 3\n",
        "b = len(list(hcoarse.keys())) - 3"
      ],
      "execution_count": 3,
      "outputs": []
    },
    {
      "cell_type": "code",
      "metadata": {
        "id": "wjaeecuHSA9N"
      },
      "source": [
        "def readsave(arg1,arg2):\n",
        "  n1 = np.array(arg1[arg2][:])\n",
        "  return n1"
      ],
      "execution_count": 4,
      "outputs": []
    },
    {
      "cell_type": "code",
      "metadata": {
        "id": "ZV0yUS2zSCFI"
      },
      "source": [
        "nfine = np.array([])\n",
        "for i in range(a):\n",
        "  n1 = readsave(hfine,list(hfine.keys())[i])\n",
        "  n1 = n1.swapaxes(0,2)\n",
        "  n1 = n1[:,:,0,0:2].reshape(n1.shape[0]**2,2)\n",
        "  n1 = n1[:,np.newaxis,:]\n",
        "  if i == 0:\n",
        "    nfine = n1\n",
        "  else:\n",
        "    nfine = np.append(nfine,n1,axis=1)\n",
        "    #print(n.shape)"
      ],
      "execution_count": 5,
      "outputs": []
    },
    {
      "cell_type": "code",
      "metadata": {
        "id": "SQcQf8LaSPiw"
      },
      "source": [
        "ncoarse = np.array([])\n",
        "for i in range(b):\n",
        "  n1 = readsave(hcoarse,list(hcoarse.keys())[i])\n",
        "  n1 = n1.swapaxes(0,2)\n",
        "  n1 = n1[:,:,0,0:2].reshape(n1.shape[0]**2,2)\n",
        "  n1 = n1[:,np.newaxis,:]\n",
        "  if i == 0:\n",
        "    ncoarse = n1\n",
        "  else:\n",
        "    ncoarse = np.append(ncoarse,n1,axis=1)\n",
        "    #print(n.shape)"
      ],
      "execution_count": 6,
      "outputs": []
    },
    {
      "cell_type": "code",
      "metadata": {
        "colab": {
          "base_uri": "https://localhost:8080/"
        },
        "id": "83n12hdVCAGQ",
        "outputId": "928a1b10-f90c-4cbd-be5d-802d1359895a"
      },
      "source": [
        "nfine.shape"
      ],
      "execution_count": 7,
      "outputs": [
        {
          "output_type": "execute_result",
          "data": {
            "text/plain": [
              "(65536, 64, 2)"
            ]
          },
          "metadata": {
            "tags": []
          },
          "execution_count": 7
        }
      ]
    },
    {
      "cell_type": "code",
      "metadata": {
        "id": "3KdcrTTs9C91"
      },
      "source": [
        "#Calculate subgrid stresses from filtered fine matrix UiUj\n",
        "def true_sgs(ncoarse,nfine):\n",
        "  Uij = np.multiply(nfine[:,:,0],nfine[:,:,1])\n",
        "  Uii = np.multiply(nfine[:,:,0],nfine[:,:,0])\n",
        "  Ujj = np.multiply(nfine[:,:,1],nfine[:,:,1])\n",
        "  tau_Uij = Uij[::64,:] - np.multiply(ncoarse[:,:,0],ncoarse[:,:,1])\n",
        "  tau_Uii = Uii[::64,:] - np.multiply(ncoarse[:,:,0],ncoarse[:,:,0])\n",
        "  tau_Ujj = Ujj[::64,:] - np.multiply(ncoarse[:,:,1],ncoarse[:,:,1])\n",
        "\n",
        "  return tau_Uii,tau_Uij,tau_Ujj\n",
        "\n",
        "tau_Uii,tau_Uij,tau_Ujj = true_sgs(ncoarse,nfine)"
      ],
      "execution_count": 8,
      "outputs": []
    },
    {
      "cell_type": "code",
      "metadata": {
        "id": "K5oDOIq4S1-V"
      },
      "source": [
        "#Functions for Derivatives assuming periodic boundary conditions\n",
        "def gradient(N,dx):\n",
        "  A = np.zeros((N,N))\n",
        "  for i in range(N-1):\n",
        "    A[i,i+1] = 1\n",
        "    A[i+1,i] = -1\n",
        "  \n",
        "  A3 = A\n",
        "  A3[N-1,0] = 1\n",
        "  A3[0,N-1] = -1\n",
        "  A3 = A3/(2*dx)\n",
        "  return A3\n",
        "\n",
        "def second_deriv(N,dx):\n",
        "  A = np.zeros((N,N))\n",
        "  for i in range(N):\n",
        "    A[i,i] = -2\n",
        "  for i in range(N-1):\n",
        "    A[i,i+1] = 1\n",
        "    A[i+1,i] = 1\n",
        "  \n",
        "  A3 = A\n",
        "  A3[N-1,0] = 1\n",
        "  A3[0,N-1] = 1\n",
        "  A3 = A3/(dx**2)\n",
        "  return A3"
      ],
      "execution_count": 9,
      "outputs": []
    },
    {
      "cell_type": "code",
      "metadata": {
        "id": "K_g0HILTbWwP"
      },
      "source": [
        "#Computing the derivative operator matrices for dx = 2*pi\n",
        "N = ncoarse.shape[0]\n",
        "dx = 2*np.pi/ncoarse.shape[1]\n",
        "A = gradient(ncoarse.shape[0],dx)\n",
        "B = second_deriv(1024,dx)"
      ],
      "execution_count": 10,
      "outputs": []
    },
    {
      "cell_type": "code",
      "metadata": {
        "id": "i89zhenwf0wo"
      },
      "source": [
        "#Computing derivative features\n",
        "ux = np.zeros((ncoarse.shape[0],ncoarse.shape[1]))\n",
        "vx = np.zeros((ncoarse.shape[0],ncoarse.shape[1]))\n",
        "uxx = np.zeros((ncoarse.shape[0],ncoarse.shape[1]))\n",
        "vxx = np.zeros((ncoarse.shape[0],ncoarse.shape[1]))\n",
        "\n",
        "for i in range(ncoarse.shape[1]):\n",
        "  ux[:,i] = A.dot(ncoarse[:,i,0])\n",
        "  vx[:,i] = A.dot(ncoarse[:,i,1])\n",
        "  uxx[:,i] = B.dot(ncoarse[:,i,0])\n",
        "  vxx[:,i] = B.dot(ncoarse[:,i,1])\n",
        "\n",
        "ux = ux[:,:,np.newaxis]\n",
        "vx = vx[:,:,np.newaxis]\n",
        "uxx = uxx[:,:,np.newaxis]\n",
        "vxx = vxx[:,:,np.newaxis]"
      ],
      "execution_count": 11,
      "outputs": []
    },
    {
      "cell_type": "code",
      "metadata": {
        "id": "REVtlzfvZd_b"
      },
      "source": [
        "#Smagorinsky estimation of Tau (SG Stresses)\n",
        "Cs = .1678\n",
        "\n",
        "def smag_compute(input_coarse,input_fine):\n",
        "  ux = input_coarse[:,:,2][:,:,np.newaxis]\n",
        "  vx = input_coarse[:,:,3][:,:,np.newaxis]\n",
        "  \n",
        "  input_coarse = input_coarse[:,:,0:2]\n",
        "  tau_Uii,tau_Uij,tau_Ujj = true_sgs(input_coarse,input_fine)\n",
        "  \n",
        "  Sii = ux\n",
        "  Sjj = vx\n",
        "  Sij = (ux + vx)/2\n",
        "  tau_kk = (tau_Uii + tau_Ujj)/2\n",
        "\n",
        "  tau_sii = -2*(Cs*dx**2)*np.multiply(np.sqrt(2*np.multiply(Sii,Sii)),Sii) + tau_kk[:,:,np.newaxis]\n",
        "  tau_sij = -2*(Cs*dx**2)*np.multiply(np.sqrt(2*np.multiply(Sij,Sij)),Sij) + tau_kk[:,:,np.newaxis]\n",
        "  tau_sjj = -2*(Cs*dx**2)*np.multiply(np.sqrt(2*np.multiply(Sjj,Sjj)),Sjj) + tau_kk[:,:,np.newaxis]\n",
        "\n",
        "  op_smag = np.concatenate((tau_sii,tau_sij,tau_sjj),axis=0).reshape(1024*3,input_coarse.shape[1])\n",
        "  return op_smag"
      ],
      "execution_count": 12,
      "outputs": []
    },
    {
      "cell_type": "code",
      "metadata": {
        "id": "JYCNKeilivwJ"
      },
      "source": [
        "#Setup Input and Output features\n",
        "input = ncoarse\n",
        "input = np.append(input,ux,axis=2)\n",
        "input = np.append(input,vx,axis=2)\n",
        "input = np.append(input,uxx,axis=2)\n",
        "input = np.append(input,vxx,axis=2)\n",
        "\n",
        "output = tau_Uii[:,:,np.newaxis]\n",
        "output = np.append(output,tau_Uij[:,:,np.newaxis],axis=2)\n",
        "output = np.append(output,tau_Ujj[:,:,np.newaxis],axis=2)\n",
        "\n",
        "input = input.reshape(input.shape[0]*input.shape[2],input.shape[1]).transpose()\n",
        "output = output.reshape(output.shape[0]*output.shape[2],output.shape[1]).transpose()"
      ],
      "execution_count": 13,
      "outputs": []
    },
    {
      "cell_type": "code",
      "metadata": {
        "colab": {
          "base_uri": "https://localhost:8080/"
        },
        "id": "q_gSS7MilxKd",
        "outputId": "5bb805ad-f514-4613-8e85-3ee5a513b77d"
      },
      "source": [
        "#Setup validation and demean all inputs\n",
        "mean_ip = input.mean(axis=0,keepdims=True)\n",
        "mean_op = output.mean(axis=0,keepdims=True)\n",
        "\n",
        "nn_im = input - mean_ip\n",
        "nn_om = output - mean_op\n",
        "\n",
        "nn_im_test = nn_im[60:64,:]\n",
        "nn_om_test = nn_om[60:64,:]\n",
        "nn_fine_test = nfine[:,60:64,:]\n",
        "\n",
        "nn_im = nn_im[:60,:]\n",
        "nn_om = nn_om[:60,:]\n",
        "from sklearn.model_selection import train_test_split\n",
        "\n",
        "all_indices = list(range(nn_im.shape[0]))\n",
        "train, dev = train_test_split(all_indices, test_size=0.2)\n",
        "\n",
        "nn_ipm = nn_im[train,:]\n",
        "nn_idm = nn_im[dev,:]\n",
        "nn_opm = nn_om[train,:]\n",
        "nn_odm = nn_om[dev,:]\n",
        "\n",
        "nn_ipm_small = nn_ipm[:,:1024*2]\n",
        "nn_idm_small = nn_idm[:,:1024*2]\n",
        "nn_opm_small = nn_opm\n",
        "nn_odm_small = nn_odm\n",
        "\n",
        "print(nn_ipm.shape, nn_opm.shape, nn_idm.shape, nn_odm.shape)\n",
        "print(nn_ipm_small.shape, nn_opm_small.shape, nn_idm_small.shape, nn_odm_small.shape)\n",
        "print(nn_im_test.shape,nn_om_test.shape)"
      ],
      "execution_count": 14,
      "outputs": [
        {
          "output_type": "stream",
          "text": [
            "(48, 6144) (48, 3072) (12, 6144) (12, 3072)\n",
            "(48, 2048) (48, 3072) (12, 2048) (12, 3072)\n",
            "(4, 6144) (4, 3072)\n"
          ],
          "name": "stdout"
        }
      ]
    },
    {
      "cell_type": "code",
      "metadata": {
        "id": "kwujL0ZAIspB"
      },
      "source": [
        "#Train NN to model this one timestep\n",
        "from tensorflow import keras\n",
        "from keras import layers\n",
        "from keras.models import Sequential\n",
        "from keras import optimizers\n",
        "from keras.layers import Activation\n",
        "from keras.utils.generic_utils import get_custom_objects\n",
        "from keras import backend as K"
      ],
      "execution_count": 15,
      "outputs": []
    },
    {
      "cell_type": "code",
      "metadata": {
        "id": "SlfyTHvhIv2N"
      },
      "source": [
        "# Build model\n",
        "deep_approx = keras.models.Sequential()\n",
        "deep_approx.add(layers.Dense(1000, input_dim=nn_ipm_small.shape[1], activation='sigmoid'))\n",
        "deep_approx.add(layers.Dense(2000, activation='relu'))\n",
        "deep_approx.add(layers.Dense(2000, activation='relu'))\n",
        "deep_approx.add(layers.Dense(output.shape[1], activation='linear'))\n",
        "\n",
        "# Compile model\n",
        "deep_approx.compile(loss='mse', optimizer='adam')\n",
        "\n",
        "# Fit!\n",
        "History = deep_approx.fit(nn_ipm_small, nn_opm_small, epochs=500,\n",
        "                          validation_data=(nn_idm_small, nn_odm_small),verbose=0)"
      ],
      "execution_count": 18,
      "outputs": []
    },
    {
      "cell_type": "code",
      "metadata": {
        "id": "5tydOip6nyK-"
      },
      "source": [
        "# Build model\n",
        "deep_approx1 = keras.models.Sequential()\n",
        "deep_approx1.add(layers.Dense(1000, input_dim=input.shape[1], activation='sigmoid'))\n",
        "deep_approx1.add(layers.Dense(2000, activation='relu'))\n",
        "deep_approx1.add(layers.Dense(2000, activation='relu'))\n",
        "deep_approx1.add(layers.Dense(output.shape[1], activation='linear'))\n",
        "\n",
        "# Compile model\n",
        "deep_approx1.compile(loss='mse', optimizer='adam')\n",
        "\n",
        "# Fit!\n",
        "History1 = deep_approx1.fit(nn_ipm, nn_opm, epochs=500,\n",
        "                          validation_data=(nn_idm, nn_odm),verbose=0)"
      ],
      "execution_count": 19,
      "outputs": []
    },
    {
      "cell_type": "code",
      "metadata": {
        "colab": {
          "base_uri": "https://localhost:8080/"
        },
        "id": "usPSkhTMlxyZ",
        "outputId": "beda7313-8f77-4342-efc6-bf61dce47fee"
      },
      "source": [
        "deep_approx.summary()\n",
        "deep_approx1.summary()"
      ],
      "execution_count": 20,
      "outputs": [
        {
          "output_type": "stream",
          "text": [
            "Model: \"sequential_2\"\n",
            "_________________________________________________________________\n",
            "Layer (type)                 Output Shape              Param #   \n",
            "=================================================================\n",
            "module_wrapper_8 (ModuleWrap (None, 1000)              2049000   \n",
            "_________________________________________________________________\n",
            "module_wrapper_9 (ModuleWrap (None, 2000)              2002000   \n",
            "_________________________________________________________________\n",
            "module_wrapper_10 (ModuleWra (None, 2000)              4002000   \n",
            "_________________________________________________________________\n",
            "module_wrapper_11 (ModuleWra (None, 3072)              6147072   \n",
            "=================================================================\n",
            "Total params: 14,200,072\n",
            "Trainable params: 14,200,072\n",
            "Non-trainable params: 0\n",
            "_________________________________________________________________\n",
            "Model: \"sequential_3\"\n",
            "_________________________________________________________________\n",
            "Layer (type)                 Output Shape              Param #   \n",
            "=================================================================\n",
            "module_wrapper_12 (ModuleWra (None, 1000)              6145000   \n",
            "_________________________________________________________________\n",
            "module_wrapper_13 (ModuleWra (None, 2000)              2002000   \n",
            "_________________________________________________________________\n",
            "module_wrapper_14 (ModuleWra (None, 2000)              4002000   \n",
            "_________________________________________________________________\n",
            "module_wrapper_15 (ModuleWra (None, 3072)              6147072   \n",
            "=================================================================\n",
            "Total params: 18,296,072\n",
            "Trainable params: 18,296,072\n",
            "Non-trainable params: 0\n",
            "_________________________________________________________________\n"
          ],
          "name": "stdout"
        }
      ]
    },
    {
      "cell_type": "code",
      "metadata": {
        "colab": {
          "base_uri": "https://localhost:8080/",
          "height": 545
        },
        "id": "KSvzGPfcoHZ4",
        "outputId": "7e4a2fd6-4cc0-4430-9da4-fce2f40d4c18"
      },
      "source": [
        "idx0 = 1\n",
        "import matplotlib.pyplot as plt\n",
        "\n",
        "plt.figure()\n",
        "plt.plot(History.history['loss'][idx0:], '.-', lw=2)\n",
        "plt.plot(History.history['val_loss'][idx0:], '.-', lw=2)\n",
        "plt.xlabel('epochs')\n",
        "plt.ylabel('Validation loss')\n",
        "plt.legend(['training loss', 'validation loss'])\n",
        "plt.show()\n",
        "\n",
        "plt.figure()\n",
        "plt.plot(History1.history['loss'][idx0:], '.-', lw=2)\n",
        "plt.plot(History1.history['val_loss'][idx0:], '.-', lw=2)\n",
        "plt.xlabel('epochs')\n",
        "plt.ylabel('Validation loss')\n",
        "plt.legend(['training loss', 'validation loss'])\n",
        "plt.show()"
      ],
      "execution_count": 21,
      "outputs": [
        {
          "output_type": "display_data",
          "data": {
            "image/png": "[encoded data removed]",
            "text/plain": [
              "<Figure size 432x288 with 1 Axes>"
            ]
          },
          "metadata": {
            "tags": [],
            "needs_background": "light"
          }
        },
        {
          "output_type": "display_data",
          "data": {
            "image/png": "[encoded data removed]",
            "text/plain": [
              "<Figure size 432x288 with 1 Axes>"
            ]
          },
          "metadata": {
            "tags": [],
            "needs_background": "light"
          }
        }
      ]
    },
    {
      "cell_type": "code",
      "metadata": {
        "id": "lBzauLJApI1W"
      },
      "source": [
        "#Test all estimators\n",
        "test_input = nn_im_test\n",
        "test_fine = nn_fine_test\n",
        "test_output = nn_om_test\n",
        "\n",
        "test_pred_m1 = deep_approx.predict(test_input[:,:1024*2])\n",
        "test_pred_m2 = deep_approx1.predict(test_input)\n",
        "\n",
        "test_coarse = (test_input + mean_ip).transpose().reshape(1024,test_input.shape[0],6)\n",
        "test_pred_smag = smag_compute(test_coarse,test_fine).transpose() - mean_op"
      ],
      "execution_count": 22,
      "outputs": []
    },
    {
      "cell_type": "code",
      "metadata": {
        "colab": {
          "base_uri": "https://localhost:8080/"
        },
        "id": "G3ISvkOn3f_6",
        "outputId": "d4cdd73e-25ef-4da1-bf4a-c7a418b779cc"
      },
      "source": [
        "test_input.shape"
      ],
      "execution_count": 23,
      "outputs": [
        {
          "output_type": "execute_result",
          "data": {
            "text/plain": [
              "(4, 6144)"
            ]
          },
          "metadata": {
            "tags": []
          },
          "execution_count": 23
        }
      ]
    },
    {
      "cell_type": "code",
      "metadata": {
        "colab": {
          "base_uri": "https://localhost:8080/"
        },
        "id": "vooqtnnMwxNI",
        "outputId": "29947521-dbc1-4b3b-a0c0-6f43249793d7"
      },
      "source": [
        "#Reshape the stress vector predictions\n",
        "test_pred_m1 = test_pred_m1.reshape(4,1024,3)\n",
        "test_pred_m2 = test_pred_m2.reshape(4,1024,3)\n",
        "test_pred_smag = test_pred_smag.reshape(4,1024,3)\n",
        "test_true = test_output.reshape(4,1024,3)\n",
        "\n",
        "tau_11_m1 = test_pred_m1[:,:,0]\n",
        "tau_11_m2 = test_pred_m2[:,:,0]\n",
        "tau_11_smag = test_pred_smag[:,:,0]\n",
        "tau_11_true = test_true[:,:,0]\n",
        "\n",
        "tau_12_m1 = test_pred_m1[:,:,1]\n",
        "tau_12_m2 = test_pred_m2[:,:,1]\n",
        "tau_12_smag = test_pred_smag[:,:,1]\n",
        "tau_12_true = test_true[:,:,1]\n",
        "\n",
        "\n",
        "tau_22_m1 = test_pred_m1[:,:,2]\n",
        "tau_22_m2 = test_pred_m2[:,:,2]\n",
        "tau_22_smag = test_pred_smag[:,:,2]\n",
        "tau_22_true = test_true[:,:,2]\n",
        "\n",
        "print(tau_11_m1.shape,tau_11_m2.shape,tau_11_smag.shape,tau_11_true.shape)\n",
        "print(tau_12_m1.shape,tau_12_m2.shape,tau_12_smag.shape,tau_12_true.shape)\n",
        "print(tau_22_m1.shape,tau_22_m2.shape,tau_22_smag.shape,tau_22_true.shape)"
      ],
      "execution_count": 28,
      "outputs": [
        {
          "output_type": "stream",
          "text": [
            "(4, 1024) (4, 1024) (4, 1024) (4, 1024)\n",
            "(4, 1024) (4, 1024) (4, 1024) (4, 1024)\n",
            "(4, 1024) (4, 1024) (4, 1024) (4, 1024)\n"
          ],
          "name": "stdout"
        }
      ]
    },
    {
      "cell_type": "code",
      "metadata": {
        "colab": {
          "base_uri": "https://localhost:8080/"
        },
        "id": "wiwlGk1f0c80",
        "outputId": "50a5865a-3109-489b-b8ae-2464facdcf81"
      },
      "source": [
        "#MAE for various Taus\n",
        "error_t11m1 = np.abs(tau_11_m1 - tau_11_true)\n",
        "error_t11m2 = np.abs(tau_11_m2 - tau_11_true)\n",
        "error_t11smag = np.abs(tau_11_smag - tau_11_true)\n",
        "error_t12m1 = np.abs(tau_12_m1 - tau_12_true)\n",
        "error_t12m2 = np.abs(tau_12_m2 - tau_12_true)\n",
        "error_t12smag = np.abs(tau_12_smag - tau_12_true)\n",
        "error_t22m1 = np.abs(tau_22_m1 - tau_22_true)\n",
        "error_t22m2 = np.abs(tau_22_m2 - tau_22_true)\n",
        "error_t22smag = np.abs(tau_22_smag - tau_22_true)\n",
        "\n",
        "mean_t11m1 = np.mean(np.mean(error_t11m1,axis=1))\n",
        "sd_t11m1 = np.std(np.mean(error_t11m1,axis=1))\n",
        "\n",
        "mean_t11m2 = np.mean(np.mean(error_t11m2,axis=1))\n",
        "sd_t11m2 = np.std(np.mean(error_t11m2,axis=1))\n",
        "\n",
        "mean_t11smag = np.mean(np.mean(error_t11smag,axis=1))\n",
        "sd_t11smag = np.std(np.mean(error_t11smag,axis=1))\n",
        "\n",
        "mean_t12m1 = np.mean(np.mean(error_t12m1,axis=1))\n",
        "sd_t12m1 = np.std(np.mean(error_t12m1,axis=1))\n",
        "\n",
        "mean_t12m2 = np.mean(np.mean(error_t12m2,axis=1))\n",
        "sd_t12m2 = np.std(np.mean(error_t12m2,axis=1))\n",
        "\n",
        "mean_t12smag = np.mean(np.mean(error_t12smag,axis=1))\n",
        "sd_t12smag = np.std(np.mean(error_t12smag,axis=1))\n",
        "\n",
        "mean_t22m1 = np.mean(np.mean(error_t22m1,axis=1))\n",
        "sd_t22m1 = np.std(np.mean(error_t22m2,axis=1))\n",
        "\n",
        "mean_t22m2 = np.mean(np.mean(error_t22m2,axis=1))\n",
        "sd_t22m2 = np.std(np.mean(error_t22m2,axis=1))\n",
        "\n",
        "mean_t22smag = np.mean(np.mean(error_t22smag,axis=1))\n",
        "sd_t22smag = np.std(np.mean(error_t22smag,axis=1))\n",
        "\n",
        "print(mean_t11m1,sd_t11m1,mean_t11m2,sd_t11m2,mean_t11smag,sd_t11smag)\n",
        "print(mean_t12m1,sd_t12m1,mean_t12m2,sd_t12m2,mean_t12smag,sd_t12smag)\n",
        "print(mean_t22m1,sd_t22m1,mean_t22m2,sd_t22m2,mean_t22smag,sd_t22smag)"
      ],
      "execution_count": 32,
      "outputs": [
        {
          "output_type": "stream",
          "text": [
            "0.09775593 0.022710096 0.08432464 0.039012704 0.6757772990150385 0.08132483556044193\n",
            "0.100405656 0.0419078 0.078517005 0.030088296 0.6556403084951781 0.0783434668589625\n",
            "0.10546816 0.04757712 0.089077115 0.04757712 0.7153751256617901 0.08768364101246555\n"
          ],
          "name": "stdout"
        }
      ]
    },
    {
      "cell_type": "code",
      "metadata": {
        "colab": {
          "base_uri": "https://localhost:8080/",
          "height": 881
        },
        "id": "uJ62U-EvzgKb",
        "outputId": "91314ce0-34b4-4108-bed1-17dacc9c9823"
      },
      "source": [
        "#Plot PDF\n",
        "from matplotlib import pyplot\n",
        "\n",
        "fig = pyplot.figure(figsize = (20, 15))\n",
        "\n",
        "x = tau_11_m1[1,:]\n",
        "y = tau_11_true[1,:]\n",
        "bins = np.linspace(-3, 3, 100)\n",
        "\n",
        "a = fig.add_subplot(331)\n",
        "a.hist(x, bins, alpha=0.5, label='M1', density = True, histtype='step')\n",
        "a.hist(y, bins, alpha=0.5, label='True', density = True, histtype = 'step')\n",
        "a.set_title('Tau_11 - Model 1',fontsize=16)\n",
        "\n",
        "a.legend(loc='upper right')\n",
        "\n",
        "x = tau_11_m2[1,:]\n",
        "y = tau_11_true[1,:]\n",
        "\n",
        "a = fig.add_subplot(332)\n",
        "a.hist(x, bins, alpha=0.5, label='M2', density = True, histtype='step')\n",
        "a.hist(y, bins, alpha=0.5, label='True', density = True, histtype='step')\n",
        "a.set_title('Tau_11 - Model 2',fontsize=16)\n",
        "\n",
        "a.legend(loc='upper right')\n",
        "\n",
        "x = tau_11_smag[1,:]\n",
        "y = tau_11_true[1,:]\n",
        "\n",
        "a = fig.add_subplot(333)\n",
        "a.hist(x, bins, alpha=0.5, label='Smag', density = True, histtype='step')\n",
        "a.hist(y, bins, alpha=0.5, label='True', density = True, histtype='step')\n",
        "a.set_title('Tau_11 - Smagorisnky',fontsize=16)\n",
        "\n",
        "a.legend(loc='upper right')\n",
        "\n",
        "x = tau_12_m1[1,:]\n",
        "y = tau_12_true[1,:]\n",
        "\n",
        "a = fig.add_subplot(334)\n",
        "a.hist(x, bins, alpha=0.5, label='M1', density = True, histtype='step')\n",
        "a.hist(y, bins, alpha=0.5, label='True', density = True, histtype='step')\n",
        "a.set_title('Tau_12 - Model 1',fontsize=16)\n",
        "\n",
        "a.legend(loc='upper right')\n",
        "\n",
        "x = tau_12_m2[1,:]\n",
        "y = tau_12_true[1,:]\n",
        "\n",
        "a = fig.add_subplot(335)\n",
        "a.hist(x, bins, alpha=0.5, label='M2', density = True, histtype='step')\n",
        "a.hist(y, bins, alpha=0.5, label='True', density = True, histtype='step')\n",
        "a.set_title('Tau_12 - Model 2',fontsize=16)\n",
        "\n",
        "a.legend(loc='upper right')\n",
        "\n",
        "x = tau_12_smag[1,:]\n",
        "y = tau_12_true[1,:]\n",
        "\n",
        "a = fig.add_subplot(336)\n",
        "a.hist(x, bins, alpha=0.5, label='Smag', density = True, histtype='step')\n",
        "a.hist(y, bins, alpha=0.5, label='True', density = True, histtype='step')\n",
        "a.set_title('Tau_12 - Smagorinsky',fontsize=16)\n",
        "\n",
        "a.legend(loc='upper right')\n",
        "\n",
        "x = tau_22_m1[1,:]\n",
        "y = tau_22_true[1,:]\n",
        "\n",
        "a = fig.add_subplot(337)\n",
        "a.hist(x, bins, alpha=0.5, label='M1', density = True, histtype='step')\n",
        "a.hist(y, bins, alpha=0.5, label='True', density = True, histtype='step')\n",
        "a.set_title('Tau_22 - Model 1',fontsize=16)\n",
        "\n",
        "a.legend(loc='upper right')\n",
        "\n",
        "x = tau_22_m2[1,:]\n",
        "y = tau_22_true[1,:]\n",
        "\n",
        "a = fig.add_subplot(338)\n",
        "a.hist(x, bins, alpha=0.5, label='M2', density = True, histtype='step')\n",
        "a.hist(y, bins, alpha=0.5, label='True', density = True, histtype='step')\n",
        "a.set_title('Tau_22 - Model 2',fontsize=16)\n",
        "\n",
        "a.legend(loc='upper right')\n",
        "\n",
        "x = tau_22_smag[1,:]\n",
        "y = tau_22_true[1,:]\n",
        "\n",
        "a = fig.add_subplot(339)\n",
        "a.hist(x, bins, alpha=0.5, label='Smag', density = True, histtype='step')\n",
        "a.hist(y, bins, alpha=0.5, label='True', density = True, histtype='step')\n",
        "a.set_title('Tau_22 - Smagorinsky',fontsize=16)\n",
        "\n",
        "a.legend(loc='upper right')\n",
        "\n",
        "pyplot.show()"
      ],
      "execution_count": 33,
      "outputs": [
        {
          "output_type": "display_data",
          "data": {
            "image/png": "[encoded data removed]",
            "text/plain": [
              "<Figure size 1440x1080 with 9 Axes>"
            ]
          },
          "metadata": {
            "tags": [],
            "needs_background": "light"
          }
        }
      ]
    },
    {
      "cell_type": "code",
      "metadata": {
        "id": "_TTdDgFnHFPE"
      },
      "source": [
        ""
      ],
      "execution_count": null,
      "outputs": []
    }
  ]
}