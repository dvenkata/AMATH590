{
  "nbformat": 4,
  "nbformat_minor": 0,
  "metadata": {
    "colab": {
      "name": "00.b_Readh5.ipynb",
      "provenance": [],
      "collapsed_sections": [],
      "mount_file_id": "1FdiE1KngyhBfXtVu5GkkZ8zFEGAlycMP",
      "authorship_tag": "ABX9TyMRnURMk9oInkXMMDxLxOrk"
    },
    "kernelspec": {
      "name": "python3",
      "display_name": "Python 3"
    },
    "language_info": {
      "name": "python"
    }
  },
  "cells": [
    {
      "cell_type": "code",
      "metadata": {
        "colab": {
          "base_uri": "https://localhost:8080/"
        },
        "id": "Al8CqACUNlrh",
        "outputId": "4be5aac7-7258-4612-a63b-9614175644f3"
      },
      "source": [
        "import numpy as np\n",
        "import h5py\n",
        "from google.colab import drive\n",
        "drive.mount('/content/drive')"
      ],
      "execution_count": 3,
      "outputs": [
        {
          "output_type": "stream",
          "text": [
            "Drive already mounted at /content/drive; to attempt to forcibly remount, call drive.mount(\"/content/drive\", force_remount=True).\n"
          ],
          "name": "stdout"
        }
      ]
    },
    {
      "cell_type": "code",
      "metadata": {
        "id": "U2w4Jyu8OF9N"
      },
      "source": [
        "hf = h5py.File('/content/drive/MyDrive/Colab Notebooks/vel3_cutout.h5', 'r')\n",
        "hf1 = h5py.File('/content/drive/MyDrive/Colab Notebooks/vel3_cutout_ld.h5', 'r')"
      ],
      "execution_count": 4,
      "outputs": []
    },
    {
      "cell_type": "code",
      "metadata": {
        "id": "_SG2eK943TVA"
      },
      "source": [
        "def readsave(arg1,arg2):\n",
        "  n1 = np.array(arg1[arg2][:])\n",
        "  return n1"
      ],
      "execution_count": 5,
      "outputs": []
    },
    {
      "cell_type": "code",
      "metadata": {
        "id": "_k3NPasOQ6fN"
      },
      "source": [
        "n1 = readsave(hf,list(hf.keys())[0])\n",
        "n2 = readsave(hf,list(hf.keys())[1])\n",
        "\n",
        "n3 = readsave(hf1,list(hf1.keys())[0])\n",
        "n4 = readsave(hf1,list(hf1.keys())[1])"
      ],
      "execution_count": 6,
      "outputs": []
    },
    {
      "cell_type": "code",
      "metadata": {
        "id": "KePmIjqmuZ7y"
      },
      "source": [
        "n1 = n1.swapaxes(0,2)\n",
        "n2 = n2.swapaxes(0,2)\n",
        "n3 = n3.swapaxes(0,2)\n",
        "n4 = n4.swapaxes(0,2)"
      ],
      "execution_count": 7,
      "outputs": []
    },
    {
      "cell_type": "code",
      "metadata": {
        "colab": {
          "base_uri": "https://localhost:8080/"
        },
        "id": "OcVozbykvY6m",
        "outputId": "e6fe93b0-ad99-4670-9d0a-fcae1ca33fd6"
      },
      "source": [
        "n4.shape"
      ],
      "execution_count": 8,
      "outputs": [
        {
          "output_type": "execute_result",
          "data": {
            "text/plain": [
              "(16, 16, 512, 3)"
            ]
          },
          "metadata": {
            "tags": []
          },
          "execution_count": 8
        }
      ]
    },
    {
      "cell_type": "code",
      "metadata": {
        "id": "szYmXV6y61rL"
      },
      "source": [
        "n = np.moveaxis(np.stack([n1,n2]),[0,1,2,3,4],[4,0,1,2,3])\n",
        "a = np.moveaxis(np.stack([n3,n4]),[0,1,2,3,4],[4,0,1,2,3])"
      ],
      "execution_count": 9,
      "outputs": []
    },
    {
      "cell_type": "code",
      "metadata": {
        "id": "PAXswbUuSLXq"
      },
      "source": [
        "np.save('/content/drive/MyDrive/Colab Notebooks/vel3_cutout.npy', n)\n",
        "np.save('/content/drive/MyDrive/Colab Notebooks/vel3_cutout_ld.npy', a)"
      ],
      "execution_count": 10,
      "outputs": []
    }
  ]
}